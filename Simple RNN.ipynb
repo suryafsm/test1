{
 "cells": [
  {
   "cell_type": "markdown",
   "id": "4da10169",
   "metadata": {},
   "source": [
    "# Math of Simple RNN\n",
    "\n",
    "Suryasatriya Trihandaru\n",
    "\n",
    "\n",
    "\n",
    "\n",
    "Here we want to learn the basic math of RNN:\n",
    "\n",
    "- create model\n",
    "- predict\n",
    "- manual computation"
   ]
  },
  {
   "cell_type": "markdown",
   "id": "a60ba192",
   "metadata": {},
   "source": [
    "## Libraries"
   ]
  },
  {
   "cell_type": "code",
   "execution_count": 1,
   "id": "8e7c7fc3",
   "metadata": {},
   "outputs": [],
   "source": [
    "from keras.models import Sequential\n",
    "from keras.layers import Dense, SimpleRNN\n",
    "import numpy as np"
   ]
  },
  {
   "cell_type": "markdown",
   "id": "fa600aba",
   "metadata": {},
   "source": [
    "We create a very simple model. It has only one unit RNN for predicting an output ($y$) from 3 points input ($x$).\n",
    "\n",
    "Maths:\n",
    "\n",
    "$h_0 = \\tanh(U x_0 + b_h)$\n",
    "\n",
    "$h_1 = \\tanh(U x_1 + V h_0 + b_h)$\n",
    "\n",
    "$h_2 = \\tanh(U x_2 + V h_1 + b_h)$\n",
    "\n",
    "$y = W h_2 + b_o$\n",
    "\n",
    "Here we have 3 parameters in hidden layers : $U$, $V$ and $b_h$ and 2 parameters in ouyput layer: $W$ and $b_o$"
   ]
  },
  {
   "cell_type": "code",
   "execution_count": 2,
   "id": "27298924",
   "metadata": {
    "scrolled": true
   },
   "outputs": [
    {
     "name": "stdout",
     "output_type": "stream",
     "text": [
      "Model: \"sequential\"\n",
      "_________________________________________________________________\n",
      " Layer (type)                Output Shape              Param #   \n",
      "=================================================================\n",
      " simple_rnn (SimpleRNN)      (None, 1)                 3         \n",
      "                                                                 \n",
      " dense (Dense)               (None, 1)                 2         \n",
      "                                                                 \n",
      "=================================================================\n",
      "Total params: 5\n",
      "Trainable params: 5\n",
      "Non-trainable params: 0\n",
      "_________________________________________________________________\n"
     ]
    }
   ],
   "source": [
    "model = Sequential()\n",
    "model.add(SimpleRNN(1,input_shape=(3,1), activation='tanh'))  # tanh\n",
    "model.add(Dense(1, activation='linear'))\n",
    "model.compile(loss='mean_squared_error', optimizer='adam')\n",
    "model.summary()"
   ]
  },
  {
   "cell_type": "markdown",
   "id": "3dcf13bd",
   "metadata": {},
   "source": [
    "When a model is compiled, it has random weights as the initial values:"
   ]
  },
  {
   "cell_type": "code",
   "execution_count": 3,
   "id": "4f4c4436",
   "metadata": {
    "scrolled": true
   },
   "outputs": [
    {
     "name": "stdout",
     "output_type": "stream",
     "text": [
      "[array([[1.4501959]], dtype=float32), array([[-1.]], dtype=float32), array([0.], dtype=float32)]\n",
      "==================\n",
      "[array([[0.5759429]], dtype=float32), array([0.], dtype=float32)]\n",
      "==================\n"
     ]
    }
   ],
   "source": [
    "for layer in model.layers:\n",
    "    print(layer.get_weights())\n",
    "    print('==================')"
   ]
  },
  {
   "cell_type": "markdown",
   "id": "142c1f20",
   "metadata": {},
   "source": [
    "Make a prediction using those randoms numbers."
   ]
  },
  {
   "cell_type": "code",
   "execution_count": 4,
   "id": "637348d4",
   "metadata": {
    "scrolled": true
   },
   "outputs": [
    {
     "name": "stdout",
     "output_type": "stream",
     "text": [
      "1/1 [==============================] - 0s 405ms/step\n"
     ]
    },
    {
     "data": {
      "text/plain": [
       "array([[0.5746256]], dtype=float32)"
      ]
     },
     "execution_count": 4,
     "metadata": {},
     "output_type": "execute_result"
    }
   ],
   "source": [
    "x = np.array([1, 2, 3])\n",
    "x_input = np.reshape(x,(1, 3, 1))\n",
    "y_pred = model.predict(x_input)\n",
    "y_pred"
   ]
  },
  {
   "cell_type": "markdown",
   "id": "c27e38a9",
   "metadata": {},
   "source": [
    "Now, calculate manually using the equations above."
   ]
  },
  {
   "cell_type": "code",
   "execution_count": 5,
   "id": "eceea0bb",
   "metadata": {},
   "outputs": [],
   "source": [
    "U = model.get_weights()[0]\n",
    "V = model.get_weights()[1]\n",
    "bh = model.get_weights()[2]\n",
    "W = model.get_weights()[3]\n",
    "bo = model.get_weights()[4]"
   ]
  },
  {
   "cell_type": "code",
   "execution_count": 6,
   "id": "af616bd5",
   "metadata": {},
   "outputs": [
    {
     "name": "stdout",
     "output_type": "stream",
     "text": [
      "[[0.5746256]] [[0.5746256]]\n"
     ]
    }
   ],
   "source": [
    "h0 = np.tanh(U*x[0]+bh)\n",
    "h1 = np.tanh(U*x[1]+V*h0+bh)\n",
    "h2 = np.tanh(U*x[2]+V*h1+bh)\n",
    "y3 = W*h2 + bo\n",
    "print(y3, y_pred)\n"
   ]
  },
  {
   "cell_type": "code",
   "execution_count": null,
   "id": "0116a961",
   "metadata": {},
   "outputs": [],
   "source": []
  }
 ],
 "metadata": {
  "kernelspec": {
   "display_name": "Python 3 (ipykernel)",
   "language": "python",
   "name": "python3"
  },
  "language_info": {
   "codemirror_mode": {
    "name": "ipython",
    "version": 3
   },
   "file_extension": ".py",
   "mimetype": "text/x-python",
   "name": "python",
   "nbconvert_exporter": "python",
   "pygments_lexer": "ipython3",
   "version": "3.10.5"
  }
 },
 "nbformat": 4,
 "nbformat_minor": 5
}
